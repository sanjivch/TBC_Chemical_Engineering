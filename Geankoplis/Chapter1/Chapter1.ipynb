{
 "cells": [
  {
   "cell_type": "markdown",
   "metadata": {},
   "source": [
    "# Transport Processes and Separation Process Principles"
   ]
  },
  {
   "cell_type": "markdown",
   "metadata": {},
   "source": [
    "## Chapter 1"
   ]
  },
  {
   "cell_type": "code",
   "execution_count": null,
   "metadata": {
    "collapsed": true
   },
   "outputs": [],
   "source": []
  },
  {
   "cell_type": "code",
   "execution_count": 2,
   "metadata": {
    "collapsed": false
   },
   "outputs": [
    {
     "name": "stdout",
     "output_type": "stream",
     "text": [
      "In FPS units, R = 10.7262 ft**3 psia lb mol**-1 degR**-1\n",
      "In SI units, R = 8314.4739 m**3 Pa kg mol**-1 K**-1\n"
     ]
    }
   ],
   "source": [
    "# Ex. 1.4-1 Gas- Law constant\n",
    "#At standard conditions in FPS units \n",
    "p = 14.7 # p in psia\n",
    "V = 359. # V in ft**3\n",
    "T = 492. # T in degR; T = 460 + 32 \n",
    "n = 1.   # n in lb mol\n",
    "\n",
    "# From the Ideal gas law (Eq. 1.4-1) p*V = n*R*T; Rearranging\n",
    "R = p*V/(n*T)\n",
    "print \"In FPS units, R = %.4f ft**3 psia lb mol**-1 degR**-1\"%R\n",
    "\n",
    "#At standard conditions in SI units\n",
    "p = 101325 # p in Pa\n",
    "V = 22.414 # V in m**3\n",
    "T = 273.15 # T in K; T = 0 + 273.15 \n",
    "n = 1.   # n in kg mol\n",
    "\n",
    "R = p*V/(n*T)\n",
    "print \"In SI units, R = %.4f m**3 Pa kg mol**-1 K**-1\"%R"
   ]
  },
  {
   "cell_type": "code",
   "execution_count": 5,
   "metadata": {
    "collapsed": false
   },
   "outputs": [
    {
     "name": "stdout",
     "output_type": "stream",
     "text": [
      "Total pressure P = 746.0000 mm Hg\n",
      "Compositions\n",
      "xCO2 = 0.1005 \n",
      "xCO = 0.0670 \n",
      "xN2 = 0.7976 \n",
      "xO2 = 0.0349\n"
     ]
    }
   ],
   "source": [
    "# Ex. 1.4-2 Composition of a Gas mixture\n",
    "# Partial pressures of the components in the gas mixture\n",
    "pCO2 = 75. # in mm Hg\n",
    "pCO = 50.  # in mm Hg\n",
    "pN2 = 595. # in mm Hg\n",
    "pO2 = 26.  # in mm Hg\n",
    "\n",
    "#From Dalton's law of partial pressure total pressure of gas mixture is equal to the sum of the individual partial pressures (Eq. 1.4-3)\n",
    "P = pCO2 + pCO + pN2 + pO2 # in mm Hg\n",
    "\n",
    "#Compositions of all the components are given by their mole fractions, which are the ratio of their partial pressure to the total pressure of the gas mixture (Eq. 1.4-4)\n",
    "xCO2 = pCO2/P\n",
    "xCO = pCO/P\n",
    "xN2 = pN2/P\n",
    "xO2 = pO2/P\n",
    "\n",
    "print \"Total pressure P = %.4f mm Hg\"%P\n",
    "print \"Compositions\\nxCO2 = %.4f \\nxCO = %.4f \\nxN2 = %.4f \\nxO2 = %.4f\"%(xCO2,xCO,xN2,xO2)"
   ]
  },
  {
   "cell_type": "code",
   "execution_count": 6,
   "metadata": {
    "collapsed": false
   },
   "outputs": [
    {
     "name": "stdout",
     "output_type": "stream",
     "text": [
      "Amount of concentrated juice, C = 122.0690 kg/h \n",
      "Amount of water, W = 877.9310 kg/h\n"
     ]
    }
   ],
   "source": [
    "# Ex. 1.5-1 Concentration of Orange Juice\n",
    "\n",
    "# Basis: 1000 kg/h of juice entering\n",
    "\n",
    "F = 1000.   # in kg/h; W is the water evaporated/ removed; C is the concentrated juice after evaporation of water\n",
    "\n",
    "xC = 0.58   # wt% of solids in concentrated juice\n",
    "xF = 0.0708 # wt% of solids in feed juice\n",
    "xW = 0.0    # wt% of solids in water - There are no solids in evaporated water\n",
    "\n",
    "# Overall Mass Balance, F = W + C\n",
    "# Component Balance on Solids, F*xF = W*xW + C*xC; Since xW is 0, on rearranging,\n",
    "C = F*xF/xC\n",
    "\n",
    "#On rearranging and solving for the Overall Mass Balance for W,\n",
    "W = F - C\n",
    "\n",
    "print \"Amount of concentrated juice, C = %.4f kg/h \\nAmount of water, W = %.4f kg/h\"%(C,W)\n",
    "\n"
   ]
  },
  {
   "cell_type": "code",
   "execution_count": 3,
   "metadata": {
    "collapsed": false
   },
   "outputs": [
    {
     "name": "stdout",
     "output_type": "stream",
     "text": [
      "Product, P = 208.3333 kg/h \n",
      "Recycle, R = 766.6667 kg/h \n",
      "Stream inlet to Crystallizer, S = 975.0000 kg/h \n"
     ]
    }
   ],
   "source": [
    "# Ex. 1.5-2 Crystallization of KNO3 and Recycle\n",
    "\n",
    "F = 1000 # Feed in kg/h \n",
    "xF = 0.2 # 20 wt% solids in Feed \n",
    "xR = 0.375 # wt% in recycle stream\n",
    "xP = 0.96 # wt% in products stream \n",
    "xS = 0.5 # wt% in stream to crytsallizer \n",
    "xW = 0. # wt% in water is 0 \n",
    "#Calculation\n",
    "\n",
    "# Overall Mass balance, F = W + P\n",
    "# Component mass balance on solids(KNO3) F*xF = W*xW + P*xP, rearranging,\n",
    "\n",
    "P = F*xF/xP\n",
    "\n",
    "# Mass balance around the crytsallizer, S = P + R,  \n",
    "# Component balance on solids around crystallizer, S*xS = P*xP + R*xR, rearraning,\n",
    "\n",
    "R = P*(xS-xP)/(xR-xS)\n",
    "\n",
    "S = P + R\n",
    "\n",
    "print \"Product, P = %.4f kg/h \\nRecycle, R = %.4f kg/h \\nStream inlet to Crystallizer, S = %.4f kg/h \"%(P, R, S)\n",
    "\n"
   ]
  },
  {
   "cell_type": "code",
   "execution_count": null,
   "metadata": {
    "collapsed": true
   },
   "outputs": [],
   "source": [
    "#============================================================================================\n",
    "# Ex. 1.5-3 Combustion of fuel gas \n",
    "#============================================================================================"
   ]
  },
  {
   "cell_type": "code",
   "execution_count": 4,
   "metadata": {
    "collapsed": false
   },
   "outputs": [
    {
     "name": "stdout",
     "output_type": "stream",
     "text": [
      "Heat required, Q = 242.5500 kW \n"
     ]
    }
   ],
   "source": [
    "# Ex. 1.6-2 Heating of milk \n",
    "\n",
    "m = 4536 # Mass flow in kg/h \n",
    "Cp = 3.85 # Heat Capacity in kJ/kg. K \n",
    "T1 = 4.4 # Inlet temperature in deg C \n",
    "T2 = 54.4 # Outlet temperature in deg C \n",
    "\n",
    "Q = m*Cp*(T2-T1)/3600.\n",
    "\n",
    "print \"Heat required, Q = %.4f kW \"%Q\n"
   ]
  },
  {
   "cell_type": "code",
   "execution_count": null,
   "metadata": {
    "collapsed": true
   },
   "outputs": [],
   "source": []
  }
 ],
 "metadata": {
  "anaconda-cloud": {},
  "kernelspec": {
   "display_name": "Python [conda root]",
   "language": "python",
   "name": "conda-root-py"
  },
  "language_info": {
   "codemirror_mode": {
    "name": "ipython",
    "version": 2
   },
   "file_extension": ".py",
   "mimetype": "text/x-python",
   "name": "python",
   "nbconvert_exporter": "python",
   "pygments_lexer": "ipython2",
   "version": "2.7.12"
  }
 },
 "nbformat": 4,
 "nbformat_minor": 1
}
