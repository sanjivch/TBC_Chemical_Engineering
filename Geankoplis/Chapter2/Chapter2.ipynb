{
 "cells": [
  {
   "cell_type": "markdown",
   "metadata": {},
   "source": [
    "## Chapter 2 "
   ]
  },
  {
   "cell_type": "code",
   "execution_count": 1,
   "metadata": {
    "collapsed": false
   },
   "outputs": [
    {
     "name": "stdout",
     "output_type": "stream",
     "text": [
      "Force = 3.0 lbf\n",
      "Force = 1.334e+06 Dynes\n",
      "Force = 13.34 Newtons\n"
     ]
    }
   ],
   "source": [
    "# Ex. 2.2-1 Units and dimensions of Force \n",
    "\n",
    "m = 3 # mass in lbm \n",
    "\n",
    "# Part (a) - Lb force  \n",
    "g = 32.174 # acceleration due to gravity, ft/s**2 \n",
    "gc = 32.174 # gravitaion conversion factor, lbm.ft/lbf.s**2 \n",
    "\n",
    "F = m*g/gc\n",
    "\n",
    "print \"Force = %.1f lbf\"%F \n",
    "\n",
    "# Part (b) - Dynes\n",
    "m = 3*453.59 # mass is converted from lb to g\n",
    "g = 980.665 # acceleration due to gravity, cm/s**2 \n",
    "\n",
    "F = m*g # Force in Dynes\n",
    "\n",
    "print \"Force = %.3e Dynes\"%F\n",
    "\n",
    "# Part (c) - Newtons\n",
    "m = 3*.45359 # mass is converted from lb to kg\n",
    "g = 9.80665 # acceleration due to gravity, m/s**2 \n",
    "\n",
    "F = m*g # Force in Newtons \n",
    "\n",
    "print \"Force = %.2f Newtons\"%F"
   ]
  },
  {
   "cell_type": "code",
   "execution_count": 2,
   "metadata": {
    "collapsed": false
   },
   "outputs": [
    {
     "name": "stdout",
     "output_type": "stream",
     "text": [
      "SI units: P1 = 1.288e+05 Pa \n",
      "P2 = 1.347e+05 Pa \n",
      "Pgage = 3.341e+04 Pag\n",
      "\n",
      "English units: P1 = 18.67 psi \n",
      "P2 = 19.54 psi \n",
      "Pgage = 4.84 psig\n"
     ]
    }
   ],
   "source": [
    "# Ex. 2.2-2 Pressure in Storage Tank\n",
    "# SI units\n",
    "P0 = 101325. # Pa \n",
    "h1 = 3.05 # m \n",
    "h2 = 0.61 # m \n",
    "rho1 = 917 # kg/m**3 \n",
    "rho2 = 1000 # kg/m**3 \n",
    "g = 9.8066 # m/s**2\n",
    "\n",
    "P1 = P0 + (rho1*g*h1)\n",
    "P2 = P0 + (rho1*g*h1) + (rho2*g*h2)\n",
    "Pgage = P2-P0\n",
    "\n",
    "print \"SI units: P1 = %.3e Pa \\nP2 = %.3e Pa \\nPgage = %.3e Pag\"%(P1,P2,Pgage)\n",
    "\n",
    "# English units\n",
    "P0 = 14.696 # psi \n",
    "h1 = 10. # ft   \n",
    "h2 = 2. #  ft  \n",
    "rho1 = 0.917*62.43 # convert g/cm**3 to lb/ft**3 \n",
    "rho2 = 1*62.43 # convert g/cm**3 to lb/ft**3 \n",
    "g = 32.174 # convert ft/s**2 to in/s**2\n",
    "gc = 32.174 \n",
    "\n",
    "P1 = P0 + (rho1*g/gc*h1)/144.\n",
    "P2 = P0 + ((rho1*g/gc*h1) + (rho2*g/gc*h2))/144.\n",
    "Pgage = P2-P0\n",
    "\n",
    "print \"\\nEnglish units: P1 = %.2f psi \\nP2 = %.2f psi \\nPgage = %.2f psig\"%(P1,P2,Pgage)"
   ]
  },
  {
   "cell_type": "code",
   "execution_count": 1,
   "metadata": {
    "collapsed": false
   },
   "outputs": [
    {
     "name": "stdout",
     "output_type": "stream",
     "text": [
      "Head = 10.3323 m of water at 4 deg C\n",
      "Head = 0.7600 m of Hg\n"
     ]
    }
   ],
   "source": [
    "# Ex 2.2-3 Conversion of Pressure to head of a fluid\n",
    "\n",
    "# Part (a)\n",
    "# At T = 4 deg C, the density of water is 1.0 g/cm**3(= 1000 kg/m**3)\n",
    "rho = 1000 # density of water in kg/m**3 \n",
    "g = 9.80665 # acceleration due to gravity in m/s**2 \n",
    "P = 101325 #  Pressure in N/m**2\n",
    "#P = rho*g*Head, on rearranging, \n",
    "Head = P/(rho*g)\n",
    "print \"Head = %.4f m of water at 4 deg C\"%Head\n",
    "\n",
    "# Part (b)\n",
    "# At T = 0 deg C, the density of Hg is 13.5955 g/cm**3(=13595.5 kg/m**3)\n",
    "rho = 13595.5 # density of Hg in kg/m**3\n",
    "g = 9.80665 # acceleration due to gravity in m/s**2 \n",
    "P = 101325 #  Pressure in N/m**2\n",
    "#P = rho*g*Head, on rearranging, \n",
    "Head = P/(rho*g)\n",
    "print \"Head = %.4f m of Hg\"%Head"
   ]
  },
  {
   "cell_type": "code",
   "execution_count": 3,
   "metadata": {
    "collapsed": false
   },
   "outputs": [
    {
     "name": "stdout",
     "output_type": "stream",
     "text": [
      "Pressure difference = 4.041e+04 N/m**2\n"
     ]
    }
   ],
   "source": [
    "# Ex. 2.2-4 Pressure difference in a manometer\n",
    "\n",
    "rhoA = 13.6 #g/cm**2\n",
    "rhoB = 1 #g/cm**2 \n",
    "R = 32.7 # cm =\n",
    "\n",
    "g = 9.80665 # m/s**2 \n",
    "\n",
    "deltaP = (R/100.)*(rhoA - rhoB)*(1000.)*g\n",
    "\n",
    "print \"Pressure difference = %.3e N/m**2\"%deltaP"
   ]
  },
  {
   "cell_type": "code",
   "execution_count": 4,
   "metadata": {
    "collapsed": true
   },
   "outputs": [],
   "source": [
    "\n",
    "#=========================================================================================\n",
    "\n",
    "#Ex. 2.2-5 Derivation\n",
    "#========================================================================================"
   ]
  },
  {
   "cell_type": "code",
   "execution_count": 2,
   "metadata": {
    "collapsed": false
   },
   "outputs": [
    {
     "name": "stdout",
     "output_type": "stream",
     "text": [
      "Flux = 2.113e-04 amount of property/s m**2\n",
      "Concentration at mid point of path = 1.045e-02 amount of property/m**3\n"
     ]
    }
   ],
   "source": [
    "# Ex. 2.3-1 Molecular transport of a property at steadt state \n",
    "\n",
    "c1 = 1.37e-02 # concentration at position 1 in amount of property/m**3\n",
    "c2 = 0.72e-02 # concentration at position 2 in amount of property/m**3\n",
    "z1 = 0. # position 1 in m \n",
    "z2 = 0.4 # position 2 in m \n",
    "diffusivity = 0.013 # in m**2/s \n",
    "# Part (a)\n",
    "\n",
    "Flux = diffusivity*(c1-c2)/(z2-z1) # From Eq. 2.3-4  \n",
    "\n",
    "print \"Flux = %.3e amount of property/s m**2\"%Flux\n",
    "\n",
    "# Part (b) - Derivation \n",
    "\n",
    "# Part (c)\n",
    "z = (z1+z2)/2. # midpoint\n",
    "#From Eq. 2.3-6\n",
    "c = c1 + (Flux/diffusivity)*(z1-z)\n",
    "\n",
    "print \"Concentration at mid point of path = %.3e amount of property/m**3\"%c"
   ]
  },
  {
   "cell_type": "code",
   "execution_count": 4,
   "metadata": {
    "collapsed": false
   },
   "outputs": [
    {
     "name": "stdout",
     "output_type": "stream",
     "text": [
      "English Units: Reynolds no. = 1.904e+04\n",
      "SI Units: Reynolds no. = 1.904e+04\n"
     ]
    }
   ],
   "source": [
    "# Ex. 2.5-1 Reynolds number in a Pipe\n",
    "# English units  \n",
    "q = 10/(7.481*60) # convert gal/min to ft**3/s\n",
    "\n",
    "\n",
    "D = 2.067/12. # convert in to ft\n",
    "A = (3.14*D**2)/4. # in ft**2\n",
    "v = q/A # in ft/s\n",
    "rho = 0.996*62.43 # convert g/cm**3 into lbm/ft**3 \n",
    "mu = 0.8007*6.7197e-04 # convert cp(g/cm s) to lbm/ft s   \n",
    "\n",
    "Re = D*v*rho/mu \n",
    "\n",
    "print \"English Units: Reynolds no. = %.3e\"%Re\n",
    "\n",
    "# SI units  \n",
    "q = 10*3.785e-03/60 # convert gal/min to m**3/s\n",
    "\n",
    "\n",
    "D = 2.067*0.0254 # convert in to m\n",
    "A = (3.14*D**2)/4. # in m**2 \n",
    "v = q/A # in m/s\n",
    "rho = 0.996*1000. # convert g/cm**3 into kg/m**3 \n",
    "mu = 0.8007*0.001 # convert cp(0.01 g/cm s) to kg/m s \n",
    "\n",
    "Re = D*v*rho/mu \n",
    "\n",
    "print \"SI Units: Reynolds no. = %.3e\"%Re"
   ]
  },
  {
   "cell_type": "code",
   "execution_count": null,
   "metadata": {
    "collapsed": true
   },
   "outputs": [],
   "source": []
  }
 ],
 "metadata": {
  "anaconda-cloud": {},
  "kernelspec": {
   "display_name": "Python [conda root]",
   "language": "python",
   "name": "conda-root-py"
  },
  "language_info": {
   "codemirror_mode": {
    "name": "ipython",
    "version": 2
   },
   "file_extension": ".py",
   "mimetype": "text/x-python",
   "name": "python",
   "nbconvert_exporter": "python",
   "pygments_lexer": "ipython2",
   "version": "2.7.12"
  }
 },
 "nbformat": 4,
 "nbformat_minor": 1
}
