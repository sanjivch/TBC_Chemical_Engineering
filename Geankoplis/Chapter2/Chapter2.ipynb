{
 "cells": [
  {
   "cell_type": "code",
   "execution_count": 1,
   "metadata": {
    "collapsed": false
   },
   "outputs": [
    {
     "name": "stdout",
     "output_type": "stream",
     "text": [
      "Force = 3.0 lbf\n",
      "Force = 1.334e+06 Dynes\n",
      "Force = 13.34 Newtons\n"
     ]
    }
   ],
   "source": [
    "# Ex. 2.2-1 Units and dimensions of Force \n",
    "\n",
    "m = 3 # mass in lbm \n",
    "\n",
    "# Part (a) - Lb force  \n",
    "g = 32.174 # acceleration due to gravity, ft/s**2 \n",
    "gc = 32.174 # gravitaion conversion factor, lbm.ft/lbf.s**2 \n",
    "\n",
    "F = m*g/gc\n",
    "\n",
    "print \"Force = %.1f lbf\"%F \n",
    "\n",
    "# Part (b) - Dynes\n",
    "m = 3*453.59 # mass is converted from lb to g\n",
    "g = 980.665 # acceleration due to gravity, cm/s**2 \n",
    "\n",
    "F = m*g # Force in Dynes\n",
    "\n",
    "print \"Force = %.3e Dynes\"%F\n",
    "\n",
    "# Part (c) - Newtons\n",
    "m = 3*.45359 # mass is converted from lb to kg\n",
    "g = 9.80665 # acceleration due to gravity, m/s**2 \n",
    "\n",
    "F = m*g # Force in Newtons \n",
    "\n",
    "print \"Force = %.2f Newtons\"%F"
   ]
  },
  {
   "cell_type": "code",
   "execution_count": 2,
   "metadata": {
    "collapsed": false
   },
   "outputs": [
    {
     "name": "stdout",
     "output_type": "stream",
     "text": [
      "SI units: P1 = 1.288e+05 Pa \n",
      "P2 = 1.347e+05 Pa \n",
      "Pgage = 3.341e+04 Pag\n",
      "\n",
      "English units: P1 = 18.67 psi \n",
      "P2 = 19.54 psi \n",
      "Pgage = 4.84 psig\n"
     ]
    }
   ],
   "source": [
    "# Ex. 2.2-2 Pressure in Storage Tank\n",
    "# SI units\n",
    "P0 = 101325. # Pa \n",
    "h1 = 3.05 # m \n",
    "h2 = 0.61 # m \n",
    "rho1 = 917 # kg/m**3 \n",
    "rho2 = 1000 # kg/m**3 \n",
    "g = 9.8066 # m/s**2\n",
    "\n",
    "P1 = P0 + (rho1*g*h1)\n",
    "P2 = P0 + (rho1*g*h1) + (rho2*g*h2)\n",
    "Pgage = P2-P0\n",
    "\n",
    "print \"SI units: P1 = %.3e Pa \\nP2 = %.3e Pa \\nPgage = %.3e Pag\"%(P1,P2,Pgage)\n",
    "\n",
    "# English units\n",
    "P0 = 14.696 # psi \n",
    "h1 = 10. # ft   \n",
    "h2 = 2. #  ft  \n",
    "rho1 = 0.917*62.43 # convert g/cm**3 to lb/ft**3 \n",
    "rho2 = 1*62.43 # convert g/cm**3 to lb/ft**3 \n",
    "g = 32.174 # convert ft/s**2 to in/s**2\n",
    "gc = 32.174 \n",
    "\n",
    "P1 = P0 + (rho1*g/gc*h1)/144.\n",
    "P2 = P0 + ((rho1*g/gc*h1) + (rho2*g/gc*h2))/144.\n",
    "Pgage = P2-P0\n",
    "\n",
    "print \"\\nEnglish units: P1 = %.2f psi \\nP2 = %.2f psi \\nPgage = %.2f psig\"%(P1,P2,Pgage)"
   ]
  },
  {
   "cell_type": "code",
   "execution_count": 3,
   "metadata": {
    "collapsed": false
   },
   "outputs": [
    {
     "name": "stdout",
     "output_type": "stream",
     "text": [
      "Pressure difference = 4.041e+04 N/m**2\n"
     ]
    }
   ],
   "source": [
    "# Ex. 2.2-4 Pressure difference in a manometer\n",
    "\n",
    "rhoA = 13.6 #g/cm**2\n",
    "rhoB = 1 #g/cm**2 \n",
    "R = 32.7 # cm =\n",
    "\n",
    "g = 9.80665 # m/s**2 \n",
    "\n",
    "deltaP = (R/100.)*(rhoA - rhoB)*(1000.)*g\n",
    "\n",
    "print \"Pressure difference = %.3e N/m**2\"%deltaP"
   ]
  },
  {
   "cell_type": "code",
   "execution_count": 4,
   "metadata": {
    "collapsed": true
   },
   "outputs": [],
   "source": [
    "\n",
    "#=========================================================================================\n",
    "\n",
    "#Ex. 2.2-5 Derivation\n",
    "#========================================================================================"
   ]
  },
  {
   "cell_type": "code",
   "execution_count": null,
   "metadata": {
    "collapsed": true
   },
   "outputs": [],
   "source": []
  }
 ],
 "metadata": {
  "kernelspec": {
   "display_name": "Python [conda root]",
   "language": "python",
   "name": "conda-root-py"
  },
  "language_info": {
   "codemirror_mode": {
    "name": "ipython",
    "version": 2
   },
   "file_extension": ".py",
   "mimetype": "text/x-python",
   "name": "python",
   "nbconvert_exporter": "python",
   "pygments_lexer": "ipython2",
   "version": "2.7.12"
  }
 },
 "nbformat": 4,
 "nbformat_minor": 1
}
